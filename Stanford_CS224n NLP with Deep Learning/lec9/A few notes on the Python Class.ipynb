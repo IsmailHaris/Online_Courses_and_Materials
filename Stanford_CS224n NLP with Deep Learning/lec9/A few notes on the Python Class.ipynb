{
 "cells": [
  {
   "cell_type": "code",
   "execution_count": 9,
   "metadata": {},
   "outputs": [
    {
     "name": "stdout",
     "output_type": "stream",
     "text": [
      "Spam value after local assignment: test spam\n",
      "Spam value after nonlocal assignment: nonlocal spam\n",
      "Spam value after global assignment: nonlocal spam\n",
      "In global, the spam value is: Global_Initial_Spam\n"
     ]
    }
   ],
   "source": [
    "def scope_test():\n",
    "    def do_local():\n",
    "        spam = 'lcoal spam'\n",
    "    \n",
    "    def non_local():\n",
    "        nonlocal spam\n",
    "        spam = 'nonlocal spam'\n",
    "    \n",
    "    def do_global():\n",
    "        global spam\n",
    "        spam = 'global spam'\n",
    "        \n",
    "    spam = 'test spam'\n",
    "    do_local()\n",
    "    print(\"Spam value after local assignment:\", spam)\n",
    "    non_local()\n",
    "    print(\"Spam value after nonlocal assignment:\", spam)\n",
    "    do_global()\n",
    "    print(\"Spam value after global assignment:\", spam)\n",
    "\n",
    "#spam = 'Global_Initial_Spam'\n",
    "#print('Initially, the spam value is:', spam)\n",
    "scope_test()\n",
    "print('In global, the spam value is:', spam)"
   ]
  },
  {
   "cell_type": "markdown",
   "metadata": {},
   "source": [
    "Note how the local assignment (which is default) didn’t change scope_test’s binding of spam. The nonlocal assignment changed scope_test’s binding of spam, and the global assignment changed the module-level binding. You can also see that there was no previous binding for spam before the global assignment."
   ]
  },
  {
   "cell_type": "code",
   "execution_count": 21,
   "metadata": {},
   "outputs": [
    {
     "name": "stdout",
     "output_type": "stream",
     "text": [
      "12345\n",
      "hello world\n"
     ]
    },
    {
     "data": {
      "text/plain": [
       "'A simple example class'"
      ]
     },
     "execution_count": 21,
     "metadata": {},
     "output_type": "execute_result"
    }
   ],
   "source": [
    "class MyClass:\n",
    "    '''A simple example class'''\n",
    "    i = 12345\n",
    "    '''second paragraph'''\n",
    "    def f(self):\n",
    "        return 'hello world'\n",
    "print(MyClass.i)\n",
    "print(MyClass.f(1))\n",
    "MyClass.__doc__"
   ]
  },
  {
   "cell_type": "code",
   "execution_count": 23,
   "metadata": {},
   "outputs": [
    {
     "name": "stdout",
     "output_type": "stream",
     "text": [
      "__init__() func has been executed\n"
     ]
    }
   ],
   "source": [
    "class MyClass:\n",
    "    '''A simple example class'''\n",
    "    i = 12345\n",
    "    def f(self):\n",
    "        print('f() func has been executed')\n",
    "        return 'hello world'\n",
    "    #class instantiation automatically invokes __init__() for the newly-created class instance.\n",
    "    def __init__(self):\n",
    "        print('__init__() func has been executed')\n",
    "    \n",
    "x = MyClass()"
   ]
  },
  {
   "cell_type": "code",
   "execution_count": 25,
   "metadata": {},
   "outputs": [
    {
     "name": "stdout",
     "output_type": "stream",
     "text": [
      "3.0 -4.5\n"
     ]
    }
   ],
   "source": [
    "class Complex:\n",
    "    def __init__(self, realpart, imagpart):\n",
    "        self.r = realpart\n",
    "        self.i = imagpart\n",
    "\n",
    "x = Complex(3.0, -4.5)\n",
    "print(x.r, x.i)"
   ]
  },
  {
   "cell_type": "code",
   "execution_count": 26,
   "metadata": {},
   "outputs": [
    {
     "name": "stdout",
     "output_type": "stream",
     "text": [
      "16\n"
     ]
    }
   ],
   "source": [
    "x.counter = 1\n",
    "while x.counter < 10:\n",
    "    x.counter = x.counter * 2\n",
    "print(x.counter)\n",
    "del x.counter"
   ]
  },
  {
   "cell_type": "code",
   "execution_count": 31,
   "metadata": {},
   "outputs": [
    {
     "name": "stdout",
     "output_type": "stream",
     "text": [
      "<class 'int'>\n",
      "<class 'method'>\n",
      "16\n"
     ]
    }
   ],
   "source": [
    "x.arbitraryvalue = 1\n",
    "print(type(x.arbitraryvalue))\n",
    "print(type(x.__init__))\n",
    "while x.arbitraryvalue < 10:\n",
    "    x.arbitraryvalue = x.arbitraryvalue * 2\n",
    "print(x.arbitraryvalue)\n",
    "del x.arbitraryvalue"
   ]
  },
  {
   "cell_type": "code",
   "execution_count": 47,
   "metadata": {},
   "outputs": [
    {
     "name": "stdout",
     "output_type": "stream",
     "text": [
      "canine\n",
      "Fido\n",
      "['roll over']\n",
      "['play dead']\n"
     ]
    }
   ],
   "source": [
    "class Dog:\n",
    "\n",
    "    kind = 'canine'\n",
    "#    tricks = []\n",
    "    def __init__(self, name):\n",
    "        self.name = name\n",
    "        self.tricks = []\n",
    "    \n",
    "    def add_trick(self, trick):\n",
    "        self.tricks.append(trick)\n",
    "    \n",
    "d = Dog('Fido')\n",
    "e = Dog('Buddy')\n",
    "\n",
    "print(d.kind+'\\n'+d.name)\n",
    "\n",
    "d.add_trick('roll over')\n",
    "e.add_trick('play dead')\n",
    "print(d.tricks)\n",
    "print(e.tricks)"
   ]
  },
  {
   "cell_type": "code",
   "execution_count": null,
   "metadata": {},
   "outputs": [],
   "source": []
  }
 ],
 "metadata": {
  "kernelspec": {
   "display_name": "Python 3",
   "language": "python",
   "name": "python3"
  },
  "language_info": {
   "codemirror_mode": {
    "name": "ipython",
    "version": 3
   },
   "file_extension": ".py",
   "mimetype": "text/x-python",
   "name": "python",
   "nbconvert_exporter": "python",
   "pygments_lexer": "ipython3",
   "version": "3.6.4"
  }
 },
 "nbformat": 4,
 "nbformat_minor": 2
}
